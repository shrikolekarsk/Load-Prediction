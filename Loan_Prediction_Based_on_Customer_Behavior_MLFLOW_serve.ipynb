{
 "cells": [
  {
   "cell_type": "code",
   "execution_count": 9,
   "id": "5ccb2f02-bc48-4bf6-9d96-69f94b34dadb",
   "metadata": {},
   "outputs": [],
   "source": [
    "import os\n",
    "os.environ['GIT_PYTHON_REFRESH']='quiet'\n",
    "os.environ['MLFLOW_TRACKING_URI']='file:///Users/Shri/MLFlows_LoanPredication'"
   ]
  },
  {
   "cell_type": "code",
   "execution_count": 11,
   "id": "d53af852-49fd-435b-8bd4-ae1bf944c58c",
   "metadata": {},
   "outputs": [
    {
     "name": "stdout",
     "output_type": "stream",
     "text": [
      "                             run_id       experiment_id    status  \\\n",
      "0  beb0014229aa4632aaecf679125eda5e  516801477956536680  FINISHED   \n",
      "1  ca9ec6a454984359ad54df09c802b72e  516801477956536680  FINISHED   \n",
      "2  4ed7a99a0cb14976a4acfa4de68f9410  516801477956536680  FINISHED   \n",
      "3  a1855c9dd1274299859ca2b0d5f8aa67  516801477956536680  FINISHED   \n",
      "4  8ba6a7529eeb4c338ed24542ac214f2a  516801477956536680   RUNNING   \n",
      "\n",
      "                                        artifact_uri  \\\n",
      "0  file:///C:/Users/Shri/MLFlows_LoanPredication/...   \n",
      "1  file:///C:/Users/Shri/MLFlows_LoanPredication/...   \n",
      "2  file:///C:/Users/Shri/MLFlows_LoanPredication/...   \n",
      "3  file:///C:/Users/Shri/MLFlows_LoanPredication/...   \n",
      "4  file:///C:/Users/Shri/MLFlows_LoanPredication/...   \n",
      "\n",
      "                        start_time                         end_time  \\\n",
      "0 2025-05-22 03:39:44.241000+00:00 2025-05-22 03:41:22.818000+00:00   \n",
      "1 2025-05-22 02:48:38.281000+00:00 2025-05-22 03:46:49.641000+00:00   \n",
      "2 2025-05-21 04:28:37.459000+00:00 2025-05-21 05:40:26.149000+00:00   \n",
      "3 2025-05-21 03:25:18.961000+00:00 2025-05-21 04:02:48.929000+00:00   \n",
      "4 2025-05-20 14:55:44.729000+00:00                              NaT   \n",
      "\n",
      "   metrics.rf_testing_score  metrics.gbm_testing_score  \\\n",
      "0                  0.826000                   0.800667   \n",
      "1                  0.877116                   0.887460   \n",
      "2                  0.877116                   0.887910   \n",
      "3                  0.877116                   0.887910   \n",
      "4                       NaN                        NaN   \n",
      "\n",
      "   metrics.rf_training_score  metrics.gbm_training_score  ...  \\\n",
      "0                   0.825714                    0.999143  ...   \n",
      "1                   0.877092                    0.893294  ...   \n",
      "2                   0.877092                    0.893639  ...   \n",
      "3                   0.877092                    0.893639  ...   \n",
      "4                        NaN                         NaN  ...   \n",
      "\n",
      "  params.gbm_minimum_samples_split params.rf_max_depth params.n_estimators  \\\n",
      "0                                5                   6                5000   \n",
      "1                                5                   6                5000   \n",
      "2                                5                   6                5000   \n",
      "3                                5                   6                5000   \n",
      "4                                5                   6                5000   \n",
      "\n",
      "  tags.mlflow.source.type                      tags.mlflow.log-model.history  \\\n",
      "0                   LOCAL  [{\"run_id\": \"beb0014229aa4632aaecf679125eda5e\"...   \n",
      "1                   LOCAL  [{\"run_id\": \"ca9ec6a454984359ad54df09c802b72e\"...   \n",
      "2                   LOCAL  [{\"run_id\": \"4ed7a99a0cb14976a4acfa4de68f9410\"...   \n",
      "3                   LOCAL  [{\"run_id\": \"a1855c9dd1274299859ca2b0d5f8aa67\"...   \n",
      "4                   LOCAL                                               None   \n",
      "\n",
      "  tags.mlflow.user tags.feature_set_version  \\\n",
      "0             Shri             loan default   \n",
      "1             Shri             loan default   \n",
      "2             Shri             loan default   \n",
      "3             Shri             loan default   \n",
      "4             Shri                     None   \n",
      "\n",
      "                             tags.mlflow.source.name tags.iteration_name  \\\n",
      "0  C:\\Users\\Shri\\anaconda3\\Lib\\site-packages\\ipyk...  test_rf_gb_sklearn   \n",
      "1  C:\\Users\\Shri\\anaconda3\\Lib\\site-packages\\ipyk...  test_rf_gb_sklearn   \n",
      "2  C:\\Users\\Shri\\anaconda3\\Lib\\site-packages\\ipyk...  test_rf_gb_sklearn   \n",
      "3  C:\\Users\\Shri\\anaconda3\\Lib\\site-packages\\ipyk...  test_rf_gb_sklearn   \n",
      "4  C:\\Users\\Shri\\anaconda3\\Lib\\site-packages\\ipyk...                None   \n",
      "\n",
      "  tags.mlflow.runName  \n",
      "0    powerful-pig-302  \n",
      "1    abrasive-koi-934  \n",
      "2       chill-mole-46  \n",
      "3  blushing-skunk-303  \n",
      "4  useful-dolphin-582  \n",
      "\n",
      "[5 rows x 23 columns]\n"
     ]
    }
   ],
   "source": [
    "import mlflow\n",
    "\n",
    "all_runs = mlflow.search_runs(search_all_experiments=True)\n",
    "print(all_runs)"
   ]
  },
  {
   "cell_type": "code",
   "execution_count": 17,
   "id": "fa9c6abe-427f-4c09-bd15-b00d2f6a0772",
   "metadata": {},
   "outputs": [
    {
     "name": "stdout",
     "output_type": "stream",
     "text": [
      "^C\n"
     ]
    }
   ],
   "source": [
    "!mlflow models serve -p 8001 -m runs:/beb0014229aa4632aaecf679125eda5e/random-forest-model  --no-conda"
   ]
  },
  {
   "cell_type": "code",
   "execution_count": 19,
   "id": "bc9523db-f4af-43c8-8a9f-170a76422548",
   "metadata": {},
   "outputs": [
    {
     "name": "stdout",
     "output_type": "stream",
     "text": [
      "^C\n"
     ]
    }
   ],
   "source": [
    "!mlflow models serve -p 8002 -m runs:/beb0014229aa4632aaecf679125eda5e/gradient-boosting-model  --no-conda"
   ]
  },
  {
   "cell_type": "code",
   "execution_count": null,
   "id": "c9d22d7f-7239-42e2-8bbd-4b6e9315502d",
   "metadata": {},
   "outputs": [],
   "source": []
  }
 ],
 "metadata": {
  "kernelspec": {
   "display_name": "Python 3 (ipykernel)",
   "language": "python",
   "name": "python3"
  },
  "language_info": {
   "codemirror_mode": {
    "name": "ipython",
    "version": 3
   },
   "file_extension": ".py",
   "mimetype": "text/x-python",
   "name": "python",
   "nbconvert_exporter": "python",
   "pygments_lexer": "ipython3",
   "version": "3.12.4"
  }
 },
 "nbformat": 4,
 "nbformat_minor": 5
}
